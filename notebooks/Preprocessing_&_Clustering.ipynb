{
  "nbformat": 4,
  "nbformat_minor": 0,
  "metadata": {
    "colab": {
      "provenance": []
    },
    "kernelspec": {
      "name": "python3",
      "display_name": "Python 3"
    },
    "language_info": {
      "name": "python"
    }
  },
  "cells": [
    {
      "cell_type": "code",
      "source": [
        "## basic packages\n",
        "import pandas as pd\n",
        "import numpy as np"
      ],
      "metadata": {
        "id": "FmL5WomZfwnv"
      },
      "execution_count": 2,
      "outputs": []
    },
    {
      "cell_type": "code",
      "execution_count": 335,
      "metadata": {
        "id": "VAtPV4qIa9-J"
      },
      "outputs": [],
      "source": [
        "## import data\n",
        "path = \"/content/drive/MyDrive/Datathon/\"\n",
        "trainings = pd.read_csv(path + \"trainings.csv\")"
      ]
    },
    {
      "cell_type": "code",
      "source": [
        "trainings.head()"
      ],
      "metadata": {
        "id": "Xy24PuLwv1EJ"
      },
      "execution_count": null,
      "outputs": []
    },
    {
      "cell_type": "code",
      "source": [
        "trainings.describe()"
      ],
      "metadata": {
        "id": "qrUTh6e9MUXu"
      },
      "execution_count": null,
      "outputs": []
    },
    {
      "cell_type": "code",
      "source": [
        "# get indices of train & test data points\n",
        "train_ids = trainings[\"type\"].notnull()\n",
        "test_ids = trainings[\"type\"].isnull()"
      ],
      "metadata": {
        "id": "NFZHoPDHGos9"
      },
      "execution_count": 336,
      "outputs": []
    },
    {
      "cell_type": "code",
      "source": [
        "trainings[\"type\"].value_counts().plot(kind=\"bar\")"
      ],
      "metadata": {
        "colab": {
          "base_uri": "https://localhost:8080/",
          "height": 542
        },
        "id": "WNTpVHWy8ZK5",
        "outputId": "0c6c228f-576f-4f79-9889-37b62b3f9708"
      },
      "execution_count": 15,
      "outputs": [
        {
          "output_type": "execute_result",
          "data": {
            "text/plain": [
              "<Axes: >"
            ]
          },
          "metadata": {},
          "execution_count": 15
        },
        {
          "output_type": "display_data",
          "data": {
            "text/plain": [
              "<Figure size 640x480 with 1 Axes>"
            ],
            "image/png": "[encoded data removed]"
          },
          "metadata": {}
        }
      ]
    },
    {
      "cell_type": "markdown",
      "source": [
        "## **Data Preprocessing**"
      ],
      "metadata": {
        "id": "xyJcociUfXBy"
      }
    },
    {
      "cell_type": "code",
      "source": [
        "# encode labels as dummy\n",
        "trainings[\"Type_RACE\"] = 1*(trainings[\"type\"]==\"RACE\")\n",
        "trainings[\"Type_INTERVAL\"] = 1*(trainings[\"type\"]==\"INTERVAL\")\n",
        "trainings[\"Type_LONG_JOG\"] = 1*(trainings[\"type\"]==\"LONG JOG\")\n",
        "trainings[\"Type_STEADY_JOG\"] = 1*(trainings[\"type\"]==\"STEADY JOG\")\n",
        "trainings[\"Type_LOW_INTENSITY\"] = 1*(trainings[\"type\"]==\"LOW INTENSITY\")\n",
        "\n",
        "trainings.drop([\"type\"], axis=1, inplace=True)"
      ],
      "metadata": {
        "id": "q-RPg-WE71aX"
      },
      "execution_count": 337,
      "outputs": []
    },
    {
      "cell_type": "markdown",
      "source": [
        "## detect outliers"
      ],
      "metadata": {
        "id": "LuPLAHGH4mIa"
      }
    },
    {
      "cell_type": "markdown",
      "source": [
        "Set indicator if NA"
      ],
      "metadata": {
        "id": "F33G4_M0yNQw"
      }
    },
    {
      "cell_type": "code",
      "source": [
        "vars_w_NAs = [\"distance\", \"uphill\", \"downhill\", \"duration\", \"avg_hr\", \"power\"]\n",
        "for var in vars_w_NAs:\n",
        "  trainings[var+\"_NA\"] = 1*(trainings[var].isnull())"
      ],
      "metadata": {
        "id": "DuAX5bQ4yM8t"
      },
      "execution_count": 338,
      "outputs": []
    },
    {
      "cell_type": "markdown",
      "source": [
        "Mark unreasonable values as NA and set indicator"
      ],
      "metadata": {
        "id": "HNspP02kvg6z"
      }
    },
    {
      "cell_type": "code",
      "source": [
        "# Duration < 10 sec\n",
        "trainings[\"duration_<10\"] = 1*(trainings[\"duration\"] < 30)\n",
        "trainings.loc[trainings[\"duration\"] < 10, \"duration\"] = np.nan\n",
        "\n",
        "# AvgHR < 30 bpm\n",
        "trainings[\"avg_hr_<30\"] = 1*(trainings[\"avg_hr\"] < 30)\n",
        "trainings.loc[trainings[\"avg_hr\"] < 30, \"avg_hr\"] = np.nan\n",
        "\n",
        "# MaxHr < 30bmp\n",
        "trainings[\"max_hr_<30\"] = 1*(trainings[\"max_hr\"] < 30)\n",
        "trainings.loc[trainings[\"max_hr\"] < 30, \"max_hr\"] = np.nan\n",
        "\n",
        "# Power < 10 W\n",
        "trainings[\"power_<10\"] = 1*(trainings[\"power\"] < 30)\n",
        "trainings.loc[trainings[\"power\"] < 10, \"power\"] = np.nan\n",
        "\n",
        "# AvgHR > MaxHR\n",
        "trainings[\"avgHR>maxHR\"] = 1*(trainings[\"avg_hr\"] > trainings[\"max_hr\"])\n",
        "trainings.loc[trainings[\"avg_hr\"] > trainings[\"max_hr\"], \"avg_hr\"] = np.nan"
      ],
      "metadata": {
        "id": "A4TDI3LkfVF5"
      },
      "execution_count": 339,
      "outputs": []
    },
    {
      "cell_type": "code",
      "source": [
        "# drop power (too many NAs)\n",
        "trainings.drop([\"power\"], axis=1, inplace=True)"
      ],
      "metadata": {
        "id": "AFQCDlHX9uaW"
      },
      "execution_count": 340,
      "outputs": []
    },
    {
      "cell_type": "markdown",
      "source": [
        "Set indicator for extreme but possbile values"
      ],
      "metadata": {
        "id": "7rL0ZWg-xo9W"
      }
    },
    {
      "cell_type": "code",
      "source": [
        "# MaxHR > 220\n",
        "trainings[\"max_hr_>220\"] = 1*(trainings[\"max_hr\"] > 220)\n",
        "\n",
        "# AvgHr > 220\n",
        "trainings[\"avg_hr_>220\"] = 1*(trainings[\"avg_hr\"] > 220)"
      ],
      "metadata": {
        "id": "QG0YwMpjv9R5"
      },
      "execution_count": 341,
      "outputs": []
    },
    {
      "cell_type": "markdown",
      "source": [
        "## impute NAs"
      ],
      "metadata": {
        "id": "isNqf8cE4jaR"
      }
    },
    {
      "cell_type": "code",
      "source": [
        "from sklearn.experimental import enable_iterative_imputer\n",
        "from sklearn.impute import IterativeImputer\n",
        "from sklearn.ensemble import RandomForestRegressor"
      ],
      "metadata": {
        "id": "X7kprZ1q4sHa"
      },
      "execution_count": 75,
      "outputs": []
    },
    {
      "cell_type": "code",
      "source": [
        "imputer = IterativeImputer(max_iter=10, initial_strategy=\"mean\")\n",
        "estimator = RandomForestRegressor(n_estimators=500, max_features=0.5)\n",
        "\n",
        "cat = [\"user_id\", \"training_id\", \"start_date\"]\n",
        "num = [var for var in trainings.columns if var not in cat]\n",
        "\n",
        "trainings = pd.concat(\n",
        "    [trainings[cat], pd.DataFrame(imputer.fit_transform(trainings.drop(cat, axis=1)), columns=num)],\n",
        "                                                   axis=1)"
      ],
      "metadata": {
        "id": "0DEk6LW77P0Y"
      },
      "execution_count": 342,
      "outputs": []
    },
    {
      "cell_type": "markdown",
      "source": [
        "Split train & test data"
      ],
      "metadata": {
        "id": "KL4VRvigHOOi"
      }
    },
    {
      "cell_type": "markdown",
      "source": [
        "## **Baseline Models**"
      ],
      "metadata": {
        "id": "fiQ0WAhnSGDp"
      }
    },
    {
      "cell_type": "markdown",
      "source": [
        "## Set up hyperparameter optimization"
      ],
      "metadata": {
        "id": "6M3RAjlJoA09"
      }
    },
    {
      "cell_type": "code",
      "source": [
        "from sklearn.experimental import enable_halving_search_cv\n",
        "from sklearn.model_selection import HalvingRandomSearchCV"
      ],
      "metadata": {
        "id": "8uBCH6YaoE5u"
      },
      "execution_count": 16,
      "outputs": []
    },
    {
      "cell_type": "code",
      "source": [
        "metric = \"accuracy\""
      ],
      "metadata": {
        "id": "I13AjNKtrkPq"
      },
      "execution_count": 17,
      "outputs": []
    },
    {
      "cell_type": "markdown",
      "source": [
        "## fit models"
      ],
      "metadata": {
        "id": "gnCnP-CZoGRf"
      }
    },
    {
      "cell_type": "code",
      "source": [
        "from sklearn.metrics import confusion_matrix, accuracy_score"
      ],
      "metadata": {
        "id": "WwIHR3VDe3Hs"
      },
      "execution_count": 48,
      "outputs": []
    },
    {
      "cell_type": "markdown",
      "source": [
        "Prepare data"
      ],
      "metadata": {
        "id": "bh6iuuPNZhHR"
      }
    },
    {
      "cell_type": "code",
      "source": [
        "trainings[\"type\"] = np.nan\n",
        "trainings.loc[trainings[\"Type_RACE\"]==1, \"type\"] = \"RACE\"\n",
        "trainings.loc[trainings[\"Type_INTERVAL\"]==1, \"type\"] = \"INTERVAL\"\n",
        "trainings.loc[trainings[\"Type_LONG_JOG\"]==1, \"type\"] = \"LONG JOG\"\n",
        "trainings.loc[trainings[\"Type_STEADY_JOG\"]==1, \"type\"] = \"STEADY JOG\"\n",
        "trainings.loc[trainings[\"Type_LOW_INTENSITY\"]==1, \"type\"] = \"LOW INTENSITY\"\n",
        "\n",
        "trainings.drop([\"training_id\", \"user_id\", \"start_date\", \"Type_RACE\", \"Type_INTERVAL\", \"Type_LONG_JOG\", \"Type_STEADY_JOG\", \"Type_LOW_INTENSITY\"], axis=1, inplace=True)"
      ],
      "metadata": {
        "id": "nxbnQEuKVt0t"
      },
      "execution_count": 343,
      "outputs": []
    },
    {
      "cell_type": "markdown",
      "source": [
        "## Standardize data"
      ],
      "metadata": {
        "id": "VPZ02xfUXur4"
      }
    },
    {
      "cell_type": "code",
      "source": [
        "from sklearn.preprocessing import StandardScaler"
      ],
      "metadata": {
        "id": "zorr6m8SnQxe"
      },
      "execution_count": 62,
      "outputs": []
    },
    {
      "cell_type": "code",
      "source": [
        "scaler = StandardScaler()\n",
        "X = pd.DataFrame(\n",
        "    scaler.fit_transform(trainings.drop([\"type\"], axis=1)),\n",
        "    columns = trainings.drop([\"type\"], axis=1).columns,\n",
        "    index = trainings.drop([\"type\"], axis=1).index)"
      ],
      "metadata": {
        "id": "cF9PJtqAXxiU"
      },
      "execution_count": 344,
      "outputs": []
    },
    {
      "cell_type": "markdown",
      "source": [
        "Train/Test split"
      ],
      "metadata": {
        "id": "f0hzVJ3AZieU"
      }
    },
    {
      "cell_type": "code",
      "source": [
        "X_train = trainings.loc[train_ids,:].drop([\"type\"], axis=1)\n",
        "X_test = trainings.loc[test_ids,].drop([\"type\"], axis=1)\n",
        "y_train = trainings.loc[train_ids, \"type\"]"
      ],
      "metadata": {
        "id": "DqPniGBdHQZg"
      },
      "execution_count": 345,
      "outputs": []
    },
    {
      "cell_type": "code",
      "source": [
        "from sklearn.model_selection import train_test_split"
      ],
      "metadata": {
        "id": "Cv0eBQvpnSaE"
      },
      "execution_count": 22,
      "outputs": []
    },
    {
      "cell_type": "markdown",
      "source": [
        "**K Nearest Neighbors**"
      ],
      "metadata": {
        "id": "uBFiSssMv8AW"
      }
    },
    {
      "cell_type": "code",
      "source": [
        "from sklearn.neighbors import KNeighborsClassifier"
      ],
      "metadata": {
        "id": "o5sqvIrNv-vB"
      },
      "execution_count": 206,
      "outputs": []
    },
    {
      "cell_type": "code",
      "source": [
        "knn = KNeighborsClassifier()\n",
        "knn_params = {\"n_neighbors\": [1, 5, 10, 30],\n",
        "              \"weights\": [\"uniform\", \"distance\"]}\n",
        "\n",
        "search = HalvingRandomSearchCV(knn, scoring=metric,\n",
        "                               param_distributions=knn_params,\n",
        "                               random_state=0, verbose=1)\n",
        "\n",
        "search.fit(X_train, y_train.values.ravel())\n",
        "print(\"Opt. Params.:\", search.best_params_)\n",
        "y_pred = search.predict(X=X_test)\n",
        "score = accuracy_score(y_test, y_pred)\n",
        "print(\"\\nF1 (Macro):\", round(score, 2))\n",
        "confusion_matrix(y_test, y_pred)"
      ],
      "metadata": {
        "colab": {
          "base_uri": "https://localhost:8080/"
        },
        "id": "h_a0D8zAv_L7",
        "outputId": "f16c1aa0-f333-463c-9838-4cb83811bea9"
      },
      "execution_count": 207,
      "outputs": [
        {
          "output_type": "stream",
          "name": "stdout",
          "text": [
            "n_iterations: 2\n",
            "n_required_iterations: 2\n",
            "n_possible_iterations: 5\n",
            "min_resources_: 50\n",
            "max_resources_: 11271\n",
            "aggressive_elimination: False\n",
            "factor: 3\n",
            "----------\n",
            "iter: 0\n",
            "n_candidates: 8\n",
            "n_resources: 50\n",
            "Fitting 5 folds for each of 8 candidates, totalling 40 fits\n"
          ]
        },
        {
          "output_type": "stream",
          "name": "stderr",
          "text": [
            "/usr/local/lib/python3.10/dist-packages/sklearn/model_selection/_search.py:305: UserWarning: The total space of parameters 8 is smaller than n_iter=225. Running 8 iterations. For exhaustive searches, use GridSearchCV.\n",
            "  warnings.warn(\n"
          ]
        },
        {
          "output_type": "stream",
          "name": "stdout",
          "text": [
            "----------\n",
            "iter: 1\n",
            "n_candidates: 3\n",
            "n_resources: 150\n",
            "Fitting 5 folds for each of 3 candidates, totalling 15 fits\n",
            "Opt. Params.: {'weights': 'distance', 'n_neighbors': 10}\n",
            "\n",
            "F1 (Macro): 0.83\n"
          ]
        },
        {
          "output_type": "execute_result",
          "data": {
            "text/plain": [
              "array([[   0,  337,    0,    0,    1],\n",
              "       [   5, 3984,    0,    1,    4],\n",
              "       [   0,   10,    0,    0,    0],\n",
              "       [   1,  128,    0,    1,    0],\n",
              "       [   0,  358,    0,    0,    1]])"
            ]
          },
          "metadata": {},
          "execution_count": 207
        }
      ]
    },
    {
      "cell_type": "markdown",
      "source": [
        "**Logistic Regression**"
      ],
      "metadata": {
        "id": "-ZoKRVySSk7n"
      }
    },
    {
      "cell_type": "code",
      "source": [
        "from sklearn.linear_model import LogisticRegressionCV\n",
        "from sklearn.metrics import f1_score"
      ],
      "metadata": {
        "id": "1P7MXPSeaxfG"
      },
      "execution_count": 37,
      "outputs": []
    },
    {
      "cell_type": "code",
      "source": [
        "logreg = LogisticRegressionCV(cv=5, solver=\"lbfgs\", max_iter=3000)\n",
        "logreg.fit(X=X_train, y=y_train.values.ravel())\n",
        "\n",
        "y_pred = logreg.predict(X=X_test)\n",
        "score = accuracy_score(y_test, y_pred)\n",
        "\n",
        "print(\"Accuracy:\", round(score, 2))\n",
        "confusion_matrix(y_test, y_pred)"
      ],
      "metadata": {
        "colab": {
          "base_uri": "https://localhost:8080/"
        },
        "id": "z4T4__PRSRIs",
        "outputId": "3211cdfc-3df3-4162-aa22-bd0e51880c94"
      },
      "execution_count": 38,
      "outputs": [
        {
          "output_type": "stream",
          "name": "stdout",
          "text": [
            "F1 (Macro): 0.83\n"
          ]
        },
        {
          "output_type": "execute_result",
          "data": {
            "text/plain": [
              "array([[   0,  336,    0,    0,    2],\n",
              "       [   2, 3983,    0,    9,    0],\n",
              "       [   0,   10,    0,    0,    0],\n",
              "       [   0,  103,    0,   27,    0],\n",
              "       [   0,  358,    0,    0,    1]])"
            ]
          },
          "metadata": {},
          "execution_count": 38
        }
      ]
    },
    {
      "cell_type": "markdown",
      "source": [
        "**QDA**"
      ],
      "metadata": {
        "id": "ng8bv72q6XE3"
      }
    },
    {
      "cell_type": "code",
      "source": [
        "from sklearn.discriminant_analysis import QuadraticDiscriminantAnalysis"
      ],
      "metadata": {
        "id": "K2xHtpXU6Yf9"
      },
      "execution_count": 427,
      "outputs": []
    },
    {
      "cell_type": "code",
      "source": [
        "qda = QuadraticDiscriminantAnalysis()\n",
        "qda_params = {\"reg_param\": [0.0]}\n",
        "\n",
        "search = HalvingRandomSearchCV(qda, scoring=metric,\n",
        "                               param_distributions=qda_params,\n",
        "                               random_state=0, verbose=1)\n",
        "search.fit(X_train, y_train.values.ravel())\n",
        "print(\"Opt. Params.:\", search.best_params_)\n",
        "\n",
        "y_pred = search.predict(X=X_test)\n",
        "score = f1_score(y_test, y_pred, average=\"micro\")\n",
        "\n",
        "print(\"\\nF1 (Macro):\", round(score, 2))\n",
        "confusion_matrix(y_test, y_pred)"
      ],
      "metadata": {
        "id": "7H25cfVo6bFK"
      },
      "execution_count": null,
      "outputs": []
    },
    {
      "cell_type": "markdown",
      "source": [
        "**SVM**"
      ],
      "metadata": {
        "id": "3kh-hBJvcLAY"
      }
    },
    {
      "cell_type": "code",
      "source": [
        "from sklearn.svm import SVC"
      ],
      "metadata": {
        "id": "sR5ZXfLtbyQa"
      },
      "execution_count": 208,
      "outputs": []
    },
    {
      "cell_type": "code",
      "source": [
        "svm = SVC(class_weight=\"balanced\")\n",
        "svm_params = {\"C\": [0.1, 0.5, 1, 3],\n",
        "              \"kernel\": [\"linear\", \"rbf\", \"sigmoid\"]}\n",
        "\n",
        "search = HalvingRandomSearchCV(svm, scoring=metric,\n",
        "                               param_distributions=svm_params,\n",
        "                               random_state=0, verbose=1)\n",
        "\n",
        "search.fit(X_train, y_train.values.ravel())\n",
        "print(\"Opt. Params.:\", search.best_params_)\n",
        "\n",
        "y_pred = search.predict(X=X_test)"
      ],
      "metadata": {
        "id": "7Nf3n9X8cXsz"
      },
      "execution_count": null,
      "outputs": []
    },
    {
      "cell_type": "markdown",
      "source": [
        "**Random Forest**"
      ],
      "metadata": {
        "id": "leWzPpkqcNcP"
      }
    },
    {
      "cell_type": "code",
      "source": [
        "from sklearn.ensemble import RandomForestClassifier"
      ],
      "metadata": {
        "id": "D8-nIFXNcO3C"
      },
      "execution_count": 211,
      "outputs": []
    },
    {
      "cell_type": "code",
      "source": [
        "randfor = RandomForestClassifier(n_estimators=1000, class_weight=balanced_subsample)\n",
        "randfor_params = {\"max_features\": [0.3, 0.8],\n",
        "                  \"min_samples_leaf\": [1, 10]}\n",
        "\n",
        "search = HalvingRandomSearchCV(randfor, scoring=metric,\n",
        "                               param_distributions=randfor_params,\n",
        "                               random_state=0, verbose=1)\n",
        "\n",
        "search.fit(X_train, y_train.values.ravel())\n",
        "print(\"Opt. Params.:\", search.best_params_)\n",
        "\n",
        "y_pred = search.predict(X=X_test)\n",
        "score = accuracy_score(y_test, y_pred)\n",
        "print(\"\\nF1 (Macro):\", round(score, 2))\n",
        "confusion_matrix(y_test, y_pred)"
      ],
      "metadata": {
        "id": "VNV1zGdseLh0"
      },
      "execution_count": null,
      "outputs": []
    },
    {
      "cell_type": "markdown",
      "source": [
        "**Extra Trees**"
      ],
      "metadata": {
        "id": "-2VrBxLb9HOV"
      }
    },
    {
      "cell_type": "code",
      "source": [
        "from sklearn.ensemble import ExtraTreesClassifier"
      ],
      "metadata": {
        "id": "ch5MtVJf9JE4"
      },
      "execution_count": 438,
      "outputs": []
    },
    {
      "cell_type": "code",
      "source": [
        "xtree = ExtraTreesClassifier(n_estimators=1000)\n",
        "xtree_params = {\"max_features\": [0.1, 0.3, 0.5, 0.8],\n",
        "                \"min_samples_leaf\": [1, 5, 10, 30]}\n",
        "\n",
        "search = HalvingRandomSearchCV(xtree, scoring=metric,\n",
        "                               param_distributions=xtree_params,\n",
        "                               random_state=0, verbose=1)\n",
        "\n",
        "search.fit(X_train, y_train.values.ravel())\n",
        "print(\"Opt. Params.:\", search.best_params_)\n",
        "\n",
        "y_pred = search.predict(X=X_test)\n",
        "score = f1_score(y_test, y_pred, average=\"micro\")\n",
        "print(\"\\nF1 (Macro):\", round(score, 2))\n",
        "confusion_matrix(y_test, y_pred)"
      ],
      "metadata": {
        "id": "0K8TTlMo9JrZ"
      },
      "execution_count": null,
      "outputs": []
    },
    {
      "cell_type": "markdown",
      "source": [
        "**Boosted Tree**"
      ],
      "metadata": {
        "id": "mgzwZsb-fj4v"
      }
    },
    {
      "cell_type": "code",
      "source": [
        "from sklearn.ensemble import GradientBoostingClassifier"
      ],
      "metadata": {
        "id": "6OG4G68qehku"
      },
      "execution_count": 217,
      "outputs": []
    },
    {
      "cell_type": "code",
      "source": [
        "boost = GradientBoostingClassifier(n_estimators=500)\n",
        "boost_params = {\"learning_rate\": [0.005, 0.01, 0.05, 0.1],\n",
        "               \"min_samples_leaf\": [1, 5, 10, 30]}\n",
        "\n",
        "search = HalvingRandomSearchCV(boost, scoring=metric,\n",
        "                               param_distributions=boost_params,\n",
        "                               random_state=0, verbose=1)\n",
        "\n",
        "search.fit(X_train, y_train.values.ravel())\n",
        "print(\"Opt. Params.:\", search.best_params_)\n",
        "\n",
        "y_pred = search.predict(X=X_test)\n",
        "score = accuracy_score(y_test, y_pred)\n",
        "print(\"\\nF1 (Macro):\", round(score, 2))\n",
        "confusion_matrix(y_test, y_pred)"
      ],
      "metadata": {
        "id": "p7IGj4U8fq6d"
      },
      "execution_count": null,
      "outputs": []
    },
    {
      "cell_type": "markdown",
      "source": [
        "**Cat Boost**"
      ],
      "metadata": {
        "id": "2Zfh_x1JyedO"
      }
    },
    {
      "cell_type": "code",
      "source": [],
      "metadata": {
        "id": "oFgTvSOTyiE9"
      },
      "execution_count": null,
      "outputs": []
    },
    {
      "cell_type": "markdown",
      "source": [
        "**Light GBM**"
      ],
      "metadata": {
        "id": "dFVgf2DtygJq"
      }
    },
    {
      "cell_type": "code",
      "source": [],
      "metadata": {
        "id": "STjs_GEoyifB"
      },
      "execution_count": null,
      "outputs": []
    },
    {
      "cell_type": "markdown",
      "source": [
        "**Gaussian Process**"
      ],
      "metadata": {
        "id": "e5ApJYg3wvFY"
      }
    },
    {
      "cell_type": "code",
      "source": [
        "from sklearn.gaussian_process import GaussianProcessClassifier\n",
        "from sklearn.gaussian_process.kernels import RBF"
      ],
      "metadata": {
        "id": "Le_wB6OOga2a"
      },
      "execution_count": 413,
      "outputs": []
    },
    {
      "cell_type": "code",
      "source": [
        "gp = GaussianProcessClassifier(n_restarts_optimizer=3)\n",
        "gp_params = {\"kernel\": [1.0 * RBF(1.0)]}\n",
        "\n",
        "search = HalvingRandomSearchCV(gp, scoring=metric,\n",
        "                               param_distributions=gp_params,\n",
        "                               random_state=0, verbose=1)\n",
        "\n",
        "search.fit(X_train, y_train.values.ravel())\n",
        "print(\"Opt. Params.:\", search.best_params_)\n",
        "\n",
        "y_pred = search.predict(X=X_test)\n",
        "score = f1_score(y_test, y_pred, average=\"micro\")\n",
        "print(\"\\nF1 (Macro):\", round(score, 2))\n",
        "confusion_matrix(y_test, y_pred)"
      ],
      "metadata": {
        "id": "EJimwsCcw4gm"
      },
      "execution_count": null,
      "outputs": []
    },
    {
      "cell_type": "markdown",
      "source": [
        "**MLP**"
      ],
      "metadata": {
        "id": "Rs3bfMErzmIe"
      }
    },
    {
      "cell_type": "code",
      "source": [
        "from sklearn.neural_network import MLPClassifier"
      ],
      "metadata": {
        "id": "reQGYYEPxTjD"
      },
      "execution_count": 213,
      "outputs": []
    },
    {
      "cell_type": "code",
      "source": [
        "mlp = MLPClassifier(max_iter=300, early_stopping=True, random_state=0)\n",
        "mlp_params = {\"hidden_layer_sizes\": [(100,), (250,)],\n",
        "              \"activation\": [\"tanh\", \"relu\"],\n",
        "              \"learning_rate\": [\"constant\", \"adaptive\"]}\n",
        "\n",
        "search = HalvingRandomSearchCV(mlp, scoring=metric,\n",
        "                               param_distributions=mlp_params,\n",
        "                               random_state=0, verbose=1)\n",
        "\n",
        "search.fit(X_train, y_train.values.ravel())\n",
        "print(\"Opt. Params.:\", search.best_params_)\n",
        "\n",
        "y_pred = search.predict(X=X_test)\n",
        "score = accuracy_score(y_test, y_pred)\n",
        "print(\"\\nF1 (Macro):\", round(score, 2))\n",
        "confusion_matrix(y_test, y_pred)"
      ],
      "metadata": {
        "id": "nn7AcADnzpB6"
      },
      "execution_count": null,
      "outputs": []
    },
    {
      "cell_type": "markdown",
      "source": [
        "## **Ensemble**"
      ],
      "metadata": {
        "id": "oaHF0LDzWbnl"
      }
    },
    {
      "cell_type": "code",
      "source": [
        "from sklearn.ensemble import StackingClassifier"
      ],
      "metadata": {
        "id": "okgpmIp8zznV"
      },
      "execution_count": 461,
      "outputs": []
    },
    {
      "cell_type": "code",
      "source": [],
      "metadata": {
        "id": "HZtQKwSNWnwg"
      },
      "execution_count": null,
      "outputs": []
    },
    {
      "cell_type": "markdown",
      "source": [
        "# **Clustering of Training Types**"
      ],
      "metadata": {
        "id": "YItG7ugJZFEV"
      }
    },
    {
      "cell_type": "code",
      "source": [
        "import random"
      ],
      "metadata": {
        "id": "pyKKM73APYqc"
      },
      "execution_count": 42,
      "outputs": []
    },
    {
      "cell_type": "code",
      "source": [
        "y_MANN = y.copy()\n",
        "\n",
        "knn = KNeighborsClassifier(n_neighbors=1)\n",
        "n_changed = 0\n",
        "\n",
        "for i in range(5000):\n",
        "  if i % 100 == 0: \n",
        "    print(\"\\nIteration:\", i)\n",
        "    print(\"# Long Jog:\", sum(y_MANN.values==\"LONG JOG\")[0])\n",
        "\n",
        "  i = random.sample(X.index.tolist(), 1)[0]\n",
        "\n",
        "  knn.fit(X[[\"distance\", \"duration\", \"max_hr\"]].drop([i], axis=0), y_MANN.drop([i], axis=0).values.ravel())\n",
        "  s = np.array(X[[\"distance\", \"duration\", \"max_hr\"]].loc[i,:]).reshape(1,-1)\n",
        "  type_pred = knn.predict(pd.DataFrame(s, columns=[\"distance\", \"duration\", \"max_hr\"]))\n",
        "  if type_pred != y_MANN.loc[i,:][0]: n_changed += 1\n",
        "  y_MANN.loc[i,:] = type_pred"
      ],
      "metadata": {
        "id": "tp0aEmyWlTEN"
      },
      "execution_count": null,
      "outputs": []
    },
    {
      "cell_type": "code",
      "source": [
        "y.value_counts()"
      ],
      "metadata": {
        "colab": {
          "base_uri": "https://localhost:8080/"
        },
        "id": "CgRAb6_KEr8k",
        "outputId": "840c1cfa-15fe-4574-8d62-a4f3f14a0b79"
      },
      "execution_count": 785,
      "outputs": [
        {
          "output_type": "execute_result",
          "data": {
            "text/plain": [
              "type         \n",
              "LONG JOG         13311\n",
              "STEADY JOG        1195\n",
              "INTERVAL          1127\n",
              "RACE               435\n",
              "LOW INTENSITY       34\n",
              "dtype: int64"
            ]
          },
          "metadata": {},
          "execution_count": 785
        }
      ]
    },
    {
      "cell_type": "code",
      "source": [
        "y_MANN.value_counts()"
      ],
      "metadata": {
        "colab": {
          "base_uri": "https://localhost:8080/"
        },
        "id": "jaQSI2nLywR6",
        "outputId": "8b220b11-617d-448d-c88a-bfcb117adcab"
      },
      "execution_count": 786,
      "outputs": [
        {
          "output_type": "execute_result",
          "data": {
            "text/plain": [
              "type         \n",
              "LONG JOG         14548\n",
              "INTERVAL           929\n",
              "STEADY JOG         383\n",
              "RACE               236\n",
              "LOW INTENSITY        6\n",
              "dtype: int64"
            ]
          },
          "metadata": {},
          "execution_count": 786
        }
      ]
    },
    {
      "cell_type": "code",
      "source": [
        "from sklearn.mixture import GaussianMixture"
      ],
      "metadata": {
        "id": "fc2rBzmwZH9K"
      },
      "execution_count": 25,
      "outputs": []
    },
    {
      "cell_type": "code",
      "source": [
        "gmm = GaussianMixture(n_components=5, init_params=\"k-means++\", random_state=1)\n",
        "gmm.fit(X[[\"distance\", \"max_hr\"]])\n",
        "gmm_centroids = pd.DataFrame(gmm.means_, columns=[\"distance\", \"max_hr\"])\n",
        "gmm_covs = gmm.covariances_"
      ],
      "metadata": {
        "id": "Qc4pUV0dZKOU"
      },
      "execution_count": 255,
      "outputs": []
    },
    {
      "cell_type": "code",
      "source": [
        "gmm_centroids[[\"distance\", \"max_hr\"]].plot.scatter(x=\"distance\", y=\"max_hr\")"
      ],
      "metadata": {
        "colab": {
          "base_uri": "https://localhost:8080/",
          "height": 467
        },
        "id": "wPdpoTrURsKJ",
        "outputId": "477666ec-fe13-43fc-8bf9-71f0ecb56458"
      },
      "execution_count": 256,
      "outputs": [
        {
          "output_type": "execute_result",
          "data": {
            "text/plain": [
              "<Axes: xlabel='distance', ylabel='max_hr'>"
            ]
          },
          "metadata": {},
          "execution_count": 256
        },
        {
          "output_type": "display_data",
          "data": {
            "text/plain": [
              "<Figure size 640x480 with 1 Axes>"
            ],
            "image/png": "[encoded data removed]"
          },
          "metadata": {}
        }
      ]
    },
    {
      "cell_type": "code",
      "source": [
        "gmm_centroids.iloc[4,:]"
      ],
      "metadata": {
        "colab": {
          "base_uri": "https://localhost:8080/"
        },
        "id": "5djyWq2tYxp7",
        "outputId": "a188482f-4f43-4c06-9e78-32f64aefce74"
      },
      "execution_count": 357,
      "outputs": [
        {
          "output_type": "execute_result",
          "data": {
            "text/plain": [
              "distance   -0.375390\n",
              "max_hr      0.884379\n",
              "Name: 4, dtype: float64"
            ]
          },
          "metadata": {},
          "execution_count": 357
        }
      ]
    },
    {
      "cell_type": "code",
      "source": [
        "cluster = gmm.predict(X[[\"distance\", \"duration\", \"max_hr\"]])"
      ],
      "metadata": {
        "id": "38MaSvdjghWe"
      },
      "execution_count": 36,
      "outputs": []
    },
    {
      "cell_type": "code",
      "source": [
        "# LONG JOG cluster\n",
        "y.loc[cluster==0].value_counts().plot(kind=\"bar\", title=\"LONG JOG\")"
      ],
      "metadata": {
        "colab": {
          "base_uri": "https://localhost:8080/",
          "height": 599
        },
        "id": "SMbxzH5WafQc",
        "outputId": "475d7e60-828e-4855-d41f-02f6313e9b2d"
      },
      "execution_count": 359,
      "outputs": [
        {
          "output_type": "execute_result",
          "data": {
            "text/plain": [
              "<Axes: title={'center': 'LONG JOG'}, xlabel='type'>"
            ]
          },
          "metadata": {},
          "execution_count": 359
        },
        {
          "output_type": "display_data",
          "data": {
            "text/plain": [
              "<Figure size 640x480 with 1 Axes>"
            ],
            "image/png": "[encoded data removed]"
          },
          "metadata": {}
        }
      ]
    },
    {
      "cell_type": "code",
      "source": [
        "# STEADY JOG cluster\n",
        "y.loc[cluster==1].value_counts().plot(kind=\"bar\", title=\"STEADY JOG\")"
      ],
      "metadata": {
        "colab": {
          "base_uri": "https://localhost:8080/",
          "height": 599
        },
        "id": "ndFr0Z11dkdd",
        "outputId": "13c73704-dea7-45f7-eeee-d8e7552e9362"
      },
      "execution_count": 360,
      "outputs": [
        {
          "output_type": "execute_result",
          "data": {
            "text/plain": [
              "<Axes: title={'center': 'STEADY JOG'}, xlabel='type'>"
            ]
          },
          "metadata": {},
          "execution_count": 360
        },
        {
          "output_type": "display_data",
          "data": {
            "text/plain": [
              "<Figure size 640x480 with 1 Axes>"
            ],
            "image/png": "[encoded data removed]"
          },
          "metadata": {}
        }
      ]
    },
    {
      "cell_type": "code",
      "source": [
        "# RACE cluster\n",
        "y.loc[cluster==2].value_counts().plot(kind=\"bar\", title=\"RACE\")"
      ],
      "metadata": {
        "colab": {
          "base_uri": "https://localhost:8080/",
          "height": 575
        },
        "id": "MmpDjgPQefef",
        "outputId": "10eca692-bcab-4577-8616-b65c42d0f106"
      },
      "execution_count": 361,
      "outputs": [
        {
          "output_type": "execute_result",
          "data": {
            "text/plain": [
              "<Axes: title={'center': 'RACE'}, xlabel='type'>"
            ]
          },
          "metadata": {},
          "execution_count": 361
        },
        {
          "output_type": "display_data",
          "data": {
            "text/plain": [
              "<Figure size 640x480 with 1 Axes>"
            ],
            "image/png": "[encoded data removed]"
          },
          "metadata": {}
        }
      ]
    },
    {
      "cell_type": "code",
      "source": [
        "# LOW INTENSITY cluster\n",
        "y.loc[cluster==3].value_counts().plot(kind=\"bar\", title=\"LOW INTENSITY\")"
      ],
      "metadata": {
        "colab": {
          "base_uri": "https://localhost:8080/",
          "height": 599
        },
        "id": "hWGnz1ywelDF",
        "outputId": "e1d0b19d-62e0-47ae-af81-62d90bd238ba"
      },
      "execution_count": 362,
      "outputs": [
        {
          "output_type": "execute_result",
          "data": {
            "text/plain": [
              "<Axes: title={'center': 'LOW INTENSITY'}, xlabel='type'>"
            ]
          },
          "metadata": {},
          "execution_count": 362
        },
        {
          "output_type": "display_data",
          "data": {
            "text/plain": [
              "<Figure size 640x480 with 1 Axes>"
            ],
            "image/png": "[encoded data removed]"
          },
          "metadata": {}
        }
      ]
    },
    {
      "cell_type": "code",
      "source": [
        "# INTERVAL cluster\n",
        "y.loc[cluster==4].value_counts().plot(kind=\"bar\", title=\"INTERVAL\")"
      ],
      "metadata": {
        "colab": {
          "base_uri": "https://localhost:8080/",
          "height": 599
        },
        "id": "UjR_4wRIenKp",
        "outputId": "6c81d6bf-f4cf-47ca-839b-0a375caffe78"
      },
      "execution_count": 363,
      "outputs": [
        {
          "output_type": "execute_result",
          "data": {
            "text/plain": [
              "<Axes: title={'center': 'INTERVAL'}, xlabel='type'>"
            ]
          },
          "metadata": {},
          "execution_count": 363
        },
        {
          "output_type": "display_data",
          "data": {
            "text/plain": [
              "<Figure size 640x480 with 1 Axes>"
            ],
            "image/png": "[encoded data removed]"
          },
          "metadata": {}
        }
      ]
    },
    {
      "cell_type": "code",
      "source": [
        "# create alternative ground truth\n",
        "\n",
        "y_MANN = pd.DataFrame([np.nan]*len(X_train))\n",
        "y_MANN.loc[cluster==0] = \"LONG JOG\"\n",
        "y_MANN.loc[cluster==1] = \"STEADY JOG\"\n",
        "y_MANN.loc[cluster==2] = \"RACE\"\n",
        "y_MANN.loc[cluster==3] = \"LOW INTENSITY\"\n",
        "y_MANN.loc[cluster==4] = \"INTERVAL\""
      ],
      "metadata": {
        "id": "pOqCf1HreoND"
      },
      "execution_count": 365,
      "outputs": []
    },
    {
      "cell_type": "code",
      "source": [
        "y_MANN.value_counts().plot(kind=\"bar\", title=\"New Ground Truths\")"
      ],
      "metadata": {
        "colab": {
          "base_uri": "https://localhost:8080/",
          "height": 599
        },
        "id": "GvinOB1VZgkh",
        "outputId": "f2eadb81-c6e0-4341-a9de-548fb5702cb4"
      },
      "execution_count": 367,
      "outputs": [
        {
          "output_type": "execute_result",
          "data": {
            "text/plain": [
              "<Axes: title={'center': 'New Ground Truths'}, xlabel='0'>"
            ]
          },
          "metadata": {},
          "execution_count": 367
        },
        {
          "output_type": "display_data",
          "data": {
            "text/plain": [
              "<Figure size 640x480 with 1 Axes>"
            ],
            "image/png": "[encoded data removed]"
          },
          "metadata": {}
        }
      ]
    },
    {
      "cell_type": "code",
      "source": [
        "# classifier for alternative training type\n",
        "from sklearn.discriminant_analysis import QuadraticDiscriminantAnalysis\n",
        "from sklearn.tree import DecisionTreeClassifier\n",
        "from sklearn.model_selection import GridSearchCV\n",
        "\n",
        "qda = QuadraticDiscriminantAnalysis()\n",
        "qda.fit(X_train[[\"distance\", \"duration\", \"max_hr\"]], y_MANN)\n",
        "\n",
        "#tree_params = {'max_depth': [3,5,10,15,20,50,90,120,150],\n",
        "#               \"min_samples_leaf\": [1,3,5,10,30]}\n",
        "\n",
        "#tree_cv = GridSearchCV(DecisionTreeClassifier(), tree_params, cv=5)\n",
        "#tree_cv.fit(X[[\"distance\", \"duration\", \"max_hr\"]], y_MANN)"
      ],
      "metadata": {
        "id": "mtehFL2c9D_h"
      },
      "execution_count": null,
      "outputs": []
    },
    {
      "cell_type": "markdown",
      "source": [
        "For every runner, standardize distance, duration, & MaxHR and set alternative label"
      ],
      "metadata": {
        "id": "hiYtNkizDx36"
      }
    },
    {
      "cell_type": "code",
      "source": [
        "runner_IDs = trainings[\"user_id\"].unique().tolist()\n",
        "\n",
        "for id in runner_IDs:\n",
        "  X_runner = X_train.loc[train[\"user_id\"]==id, [\"distance\", \"duration\", \"max_hr\"]]\n",
        "  \n",
        "  scaler = StandardScaler()\n",
        "  scaler.fit_transform(X_runner)\n",
        "\n",
        "  y_MANN.loc[(trainings[\"user_id\"]==id).reset_index(drop=True)] = qda.predict(X_runner)[0]"
      ],
      "metadata": {
        "id": "hVviNN7DD_5g"
      },
      "execution_count": null,
      "outputs": []
    },
    {
      "cell_type": "code",
      "source": [
        "y_MANN.value_counts().plot(kind=\"bar\")"
      ],
      "metadata": {
        "colab": {
          "base_uri": "https://localhost:8080/",
          "height": 577
        },
        "id": "k-HciVlQGmZ2",
        "outputId": "1c8a04e1-2d79-4a88-c502-e858db1c5e14"
      },
      "execution_count": 108,
      "outputs": [
        {
          "output_type": "execute_result",
          "data": {
            "text/plain": [
              "<Axes: xlabel='0'>"
            ]
          },
          "metadata": {},
          "execution_count": 108
        },
        {
          "output_type": "display_data",
          "data": {
            "text/plain": [
              "<Figure size 640x480 with 1 Axes>"
            ],
            "image/png": "[encoded data removed]"
          },
          "metadata": {}
        }
      ]
    },
    {
      "cell_type": "code",
      "source": [
        "train[\"followed_recc\"] = (1)*(y_MANN.values == y.values)"
      ],
      "metadata": {
        "id": "ko9Y3sozfisU"
      },
      "execution_count": null,
      "outputs": []
    },
    {
      "cell_type": "code",
      "source": [
        "runners_mean = train.groupby(by=\"user_id\").mean()"
      ],
      "metadata": {
        "colab": {
          "base_uri": "https://localhost:8080/"
        },
        "id": "dmyy6Oo4I-53",
        "outputId": "0a9d6ece-de6f-4216-d088-c125647e416c"
      },
      "execution_count": 119,
      "outputs": [
        {
          "output_type": "stream",
          "name": "stderr",
          "text": [
            "<ipython-input-119-dfe82bb88244>:1: FutureWarning: The default value of numeric_only in DataFrameGroupBy.mean is deprecated. In a future version, numeric_only will default to False. Either specify numeric_only or select only columns which should be valid for the function.\n",
            "  runners_mean = train.groupby(by=\"user_id\").mean()\n"
          ]
        }
      ]
    },
    {
      "cell_type": "code",
      "source": [
        "runners_mean[\"followed_recc\"].hist()"
      ],
      "metadata": {
        "colab": {
          "base_uri": "https://localhost:8080/",
          "height": 448
        },
        "id": "ZK5pDkVyJnL3",
        "outputId": "80dc8004-bc1a-4aaf-c56e-1cfae2fba204"
      },
      "execution_count": 126,
      "outputs": [
        {
          "output_type": "execute_result",
          "data": {
            "text/plain": [
              "<Axes: >"
            ]
          },
          "metadata": {},
          "execution_count": 126
        },
        {
          "output_type": "display_data",
          "data": {
            "text/plain": [
              "<Figure size 640x480 with 1 Axes>"
            ],
            "image/png": "[encoded data removed]"
          },
          "metadata": {}
        }
      ]
    },
    {
      "cell_type": "code",
      "source": [
        "runners_mean[\"followed_recc\"].to_csv(\"follow_recc\")"
      ],
      "metadata": {
        "id": "3ddvlwb2KJQt"
      },
      "execution_count": 127,
      "outputs": []
    },
    {
      "cell_type": "code",
      "source": [],
      "metadata": {
        "id": "i6-3NrysLTHs"
      },
      "execution_count": null,
      "outputs": []
    }
  ]
}